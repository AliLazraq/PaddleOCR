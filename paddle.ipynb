{
 "cells": [
  {
   "cell_type": "code",
   "execution_count": 1,
   "id": "13fa75e7",
   "metadata": {},
   "outputs": [
    {
     "name": "stdout",
     "output_type": "stream",
     "text": [
      "🔧 CELL 1: Importing libraries...\n",
      "✅ Basic imports successful\n",
      "📁 Current directory: c:\\Users\\alila\\Desktop\\PaddleOCR\n",
      "📄 Files in directory: ['temp_page.png', 'test_small_resume.png']\n"
     ]
    }
   ],
   "source": [
    "print(\"🔧 CELL 1: Importing libraries...\")\n",
    "import os\n",
    "import time\n",
    "import cv2\n",
    "\n",
    "print(\"✅ Basic imports successful\")\n",
    "print(f\"📁 Current directory: {os.getcwd()}\")\n",
    "print(f\"📄 Files in directory: {[f for f in os.listdir('.') if f.endswith(('.jpg', '.png', '.pdf'))]}\")\n"
   ]
  },
  {
   "cell_type": "code",
   "execution_count": 3,
   "id": "432b2194",
   "metadata": {},
   "outputs": [
    {
     "name": "stdout",
     "output_type": "stream",
     "text": [
      "🔧 CELL 2: Testing image loading...\n",
      "✅ File found: pdfs/Ali_Lazraq.jpg\n",
      "📊 File size: 0.86 MB\n",
      "✅ Image loaded successfully: (1650, 1275, 3)\n",
      "📐 Image dimensions: 1275 x 1650 pixels\n",
      "📊 Image channels: 3\n",
      "📊 Total pixels: 2,103,750\n",
      "⚠️ WARNING: Large image detected - this might cause memory issues\n"
     ]
    }
   ],
   "source": [
    "print(\"🔧 CELL 2: Testing image loading...\")\n",
    "\n",
    "image_path = \"pdfs/Ali_Lazraq.jpg\"\n",
    "\n",
    "# Check if file exists\n",
    "if os.path.exists(image_path):\n",
    "    print(f\"✅ File found: {image_path}\")\n",
    "    \n",
    "    # Get file size\n",
    "    file_size = os.path.getsize(image_path) / (1024 * 1024)  # MB\n",
    "    print(f\"📊 File size: {file_size:.2f} MB\")\n",
    "    \n",
    "    # Try to load with OpenCV\n",
    "    img = cv2.imread(image_path)\n",
    "    if img is not None:\n",
    "        print(f\"✅ Image loaded successfully: {img.shape}\")\n",
    "        print(f\"📐 Image dimensions: {img.shape[1]} x {img.shape[0]} pixels\")\n",
    "        print(f\"📊 Image channels: {img.shape[2]}\")\n",
    "        \n",
    "        # Check if image is too large\n",
    "        total_pixels = img.shape[0] * img.shape[1]\n",
    "        print(f\"📊 Total pixels: {total_pixels:,}\")\n",
    "        \n",
    "        if total_pixels > 2000000:  # 2 million pixels\n",
    "            print(\"⚠️ WARNING: Large image detected - this might cause memory issues\")\n",
    "        \n",
    "    else:\n",
    "        print(\"❌ Failed to load image with OpenCV\")\n",
    "else:\n",
    "    print(f\"❌ File not found: {image_path}\")\n",
    "    print(\"Please update the image_path variable\")"
   ]
  },
  {
   "cell_type": "code",
   "execution_count": 4,
   "id": "4bdefc01",
   "metadata": {},
   "outputs": [
    {
     "name": "stdout",
     "output_type": "stream",
     "text": [
      "🔧 CELL 3: Testing PaddleOCR import...\n",
      "✅ PaddleOCR imported successfully\n",
      "📦 PaddleOCR class: <class 'paddleocr._pipelines.ocr.PaddleOCR'>\n"
     ]
    }
   ],
   "source": [
    "print(\"🔧 CELL 3: Testing PaddleOCR import...\")\n",
    "\n",
    "try:\n",
    "    from paddleocr import PaddleOCR\n",
    "    print(\"✅ PaddleOCR imported successfully\")\n",
    "    \n",
    "    # Check if we can access the class\n",
    "    print(f\"📦 PaddleOCR class: {PaddleOCR}\")\n",
    "    \n",
    "except ImportError as e:\n",
    "    print(f\"❌ Failed to import PaddleOCR: {e}\")\n",
    "except Exception as e:\n",
    "    print(f\"❌ Unexpected error importing PaddleOCR: {e}\")"
   ]
  },
  {
   "cell_type": "code",
   "execution_count": null,
   "id": "8f7fafbf",
   "metadata": {},
   "outputs": [
    {
     "name": "stdout",
     "output_type": "stream",
     "text": [
      "🔧 CELL 4: Creating small test image...\n",
      "✅ Created small test image: test_small_resume.png\n",
      "✅ Test image loads with OpenCV: (200, 400, 3)\n"
     ]
    }
   ],
   "source": [
    "print(\"🔧 CELL 4: Creating small test image...\")\n",
    "\n",
    "try:\n",
    "    import numpy as np\n",
    "    from PIL import Image, ImageDraw, ImageFont\n",
    "    \n",
    "    # Create a small test image with text\n",
    "    test_img = Image.new('RGB', (400, 200), color='white')\n",
    "    draw = ImageDraw.Draw(test_img)\n",
    "    \n",
    "    # Try to use a default font, fallback to basic if not available\n",
    "    try:\n",
    "        font = ImageFont.load_default()\n",
    "    except:\n",
    "        font = None\n",
    "    \n",
    "    # Draw some text\n",
    "    draw.text((50, 50), \"JOHN DOE\", fill='black', font=font)\n",
    "    draw.text((50, 80), \"Software Engineer\", fill='black', font=font)\n",
    "    draw.text((50, 110), \"Email: john@example.com\", fill='black', font=font)\n",
    "    draw.text((50, 140), \"Phone: (555) 123-4567\", fill='black', font=font)\n",
    "    \n",
    "    # Save test image\n",
    "    test_image_path = \"test_small_resume.png\"\n",
    "    test_img.save(test_image_path)\n",
    "    print(f\"✅ Created small test image: {test_image_path}\")\n",
    "    \n",
    "    # Verify it loads with OpenCV\n",
    "    test_cv_img = cv2.imread(test_image_path)\n",
    "    if test_cv_img is not None:\n",
    "        print(f\"✅ Test image loads with OpenCV: {test_cv_img.shape}\")\n",
    "    else:\n",
    "        print(\"❌ Test image failed to load with OpenCV\")\n",
    "        \n",
    "except Exception as e:\n",
    "    print(f\"❌ Failed to create test image: {e}\")"
   ]
  },
  {
   "cell_type": "code",
   "execution_count": 6,
   "id": "7d9b11a3",
   "metadata": {},
   "outputs": [
    {
     "name": "stdout",
     "output_type": "stream",
     "text": [
      "🔧 CELL 5: Initializing PaddleOCR...\n",
      "⏳ This might take a few minutes for first-time setup...\n"
     ]
    },
    {
     "name": "stderr",
     "output_type": "stream",
     "text": [
      "\u001b[32mCreating model: ('PP-LCNet_x1_0_doc_ori', None)\u001b[0m\n",
      "\u001b[32mUsing official model (PP-LCNet_x1_0_doc_ori), the model files will be automatically downloaded and saved in C:\\Users\\alila\\.paddlex\\official_models.\u001b[0m\n",
      "c:\\Users\\alila\\Desktop\\PaddleOCR\\paddleocr_env\\lib\\site-packages\\paddle\\utils\\cpp_extension\\extension_utils.py:711: UserWarning: No ccache found. Please be aware that recompiling all source files may be required. You can download and install ccache from: https://github.com/ccache/ccache/blob/master/doc/INSTALL.md\n",
      "  warnings.warn(warning_message)\n",
      "\u001b[32mCreating model: ('UVDoc', None)\u001b[0m\n",
      "\u001b[32mUsing official model (UVDoc), the model files will be automatically downloaded and saved in C:\\Users\\alila\\.paddlex\\official_models.\u001b[0m\n",
      "\u001b[32mCreating model: ('PP-LCNet_x1_0_textline_ori', None)\u001b[0m\n",
      "\u001b[32mUsing official model (PP-LCNet_x1_0_textline_ori), the model files will be automatically downloaded and saved in C:\\Users\\alila\\.paddlex\\official_models.\u001b[0m\n",
      "\u001b[32mCreating model: ('PP-OCRv5_server_det', None)\u001b[0m\n",
      "\u001b[32mUsing official model (PP-OCRv5_server_det), the model files will be automatically downloaded and saved in C:\\Users\\alila\\.paddlex\\official_models.\u001b[0m\n",
      "\u001b[32mCreating model: ('PP-OCRv5_server_rec', None)\u001b[0m\n",
      "\u001b[32mUsing official model (PP-OCRv5_server_rec), the model files will be automatically downloaded and saved in C:\\Users\\alila\\.paddlex\\official_models.\u001b[0m\n"
     ]
    },
    {
     "name": "stdout",
     "output_type": "stream",
     "text": [
      "✅ PaddleOCR initialized successfully in 3.72 seconds\n",
      "📦 OCR object created: <class 'paddleocr._pipelines.ocr.PaddleOCR'>\n"
     ]
    }
   ],
   "source": [
    "print(\"🔧 CELL 5: Initializing PaddleOCR...\")\n",
    "print(\"⏳ This might take a few minutes for first-time setup...\")\n",
    "\n",
    "start_time = time.time()\n",
    "\n",
    "try:\n",
    "    # Create with minimal parameters\n",
    "    ocr = PaddleOCR(lang='en')\n",
    "    \n",
    "    init_time = time.time() - start_time\n",
    "    print(f\"✅ PaddleOCR initialized successfully in {init_time:.2f} seconds\")\n",
    "    \n",
    "    # Check what models were loaded\n",
    "    print(f\"📦 OCR object created: {type(ocr)}\")\n",
    "    \n",
    "except Exception as e:\n",
    "    print(f\"❌ Failed to initialize PaddleOCR: {e}\")\n",
    "    import traceback\n",
    "    traceback.print_exc()"
   ]
  },
  {
   "cell_type": "code",
   "execution_count": 7,
   "id": "a65aef38",
   "metadata": {},
   "outputs": [
    {
     "name": "stdout",
     "output_type": "stream",
     "text": [
      "🔧 CELL 6: Testing OCR on small test image...\n",
      "⏳ Processing small test image...\n"
     ]
    },
    {
     "name": "stderr",
     "output_type": "stream",
     "text": [
      "C:\\Users\\alila\\AppData\\Local\\Temp\\ipykernel_43624\\3376900979.py:8: DeprecationWarning: Please use `predict` instead.\n",
      "  result = ocr.ocr(test_image_path)\n"
     ]
    },
    {
     "name": "stdout",
     "output_type": "stream",
     "text": [
      "✅ Small image processed in 15.29 seconds\n",
      "📊 Result type: <class 'list'>\n",
      "📊 Result content: [{'input_path': 'test_small_resume.png', 'page_index': None, 'doc_preprocessor_res': {'input_path': None, 'page_index': None, 'input_img': array([[[255, ..., 255],\n",
      "        ...,\n",
      "        [255, ..., 255]],\n",
      "\n",
      "       ...,\n",
      "\n",
      "       [[255, ..., 255],\n",
      "        ...,\n",
      "        [255, ..., 255]]], dtype=uint8), 'model_settings': {'use_doc_orientation_classify': True, 'use_doc_unwarping': True}, 'angle': 0, 'rot_img': array([[[255, ..., 255],\n",
      "        ...,\n",
      "        [255, ..., 255]],\n",
      "\n",
      "       ...,\n",
      "\n",
      "       [[255, ..., 255],\n",
      "        ...,\n",
      "        [255, ..., 255]]], dtype=uint8), 'output_img': array([[[255, ..., 255],\n",
      "        ...,\n",
      "        [255, ..., 255]],\n",
      "\n",
      "       ...,\n",
      "\n",
      "       [[255, ..., 255],\n",
      "        ...,\n",
      "        [255, ..., 255]]], dtype=uint8)}, 'dt_polys': [array([[31, 50],\n",
      "       ...,\n",
      "       [31, 65]], dtype=int16), array([[34, 83],\n",
      "       ...,\n",
      "       [34, 98]], dtype=int16), array([[ 34, 118],\n",
      "       ...,\n",
      "       [ 34, 131]], dtype=int16), array([[ 32, 149],\n",
      "       ...,\n",
      "       [ 32, 162]], dtype=int16)], 'model_settings': {'use_doc_preprocessor': True, 'use_textline_orientation': True}, 'text_det_params': {'limit_side_len': 64, 'limit_type': 'min', 'thresh': 0.3, 'max_side_limit': 4000, 'box_thresh': 0.6, 'unclip_ratio': 1.5}, 'text_type': 'general', 'text_rec_score_thresh': 0.0, 'rec_texts': ['JOHN DOE', 'Software Engineer', 'Emailjohn@example.com', 'Phone:(555）123-4567'], 'rec_scores': [0.9737662672996521, 0.9895523190498352, 0.9810333251953125, 0.9351752400398254], 'rec_polys': [array([[31, 50],\n",
      "       ...,\n",
      "       [31, 65]], dtype=int16), array([[34, 83],\n",
      "       ...,\n",
      "       [34, 98]], dtype=int16), array([[ 34, 118],\n",
      "       ...,\n",
      "       [ 34, 131]], dtype=int16), array([[ 32, 149],\n",
      "       ...,\n",
      "       [ 32, 162]], dtype=int16)], 'textline_orientation_angles': [0, 0, 0, 0], 'rec_boxes': array([[ 31, ...,  65],\n",
      "       ...,\n",
      "       [ 32, ..., 162]], dtype=int16)}]\n",
      "✅ Extracted 13 text elements:\n",
      "   1. n\n",
      "   2. a\n",
      "   3. o\n",
      "   4. t\n",
      "   5. o\n",
      "   6. e\n",
      "   7. e\n",
      "   8. e\n",
      "   9. e\n",
      "   10. e\n",
      "   11. e\n",
      "   12. e\n",
      "   13. e\n"
     ]
    }
   ],
   "source": [
    "print(\"🔧 CELL 6: Testing OCR on small test image...\")\n",
    "\n",
    "if 'ocr' in locals() and 'test_image_path' in locals():\n",
    "    try:\n",
    "        print(\"⏳ Processing small test image...\")\n",
    "        start_time = time.time()\n",
    "        \n",
    "        result = ocr.ocr(test_image_path)\n",
    "        \n",
    "        process_time = time.time() - start_time\n",
    "        print(f\"✅ Small image processed in {process_time:.2f} seconds\")\n",
    "        print(f\"📊 Result type: {type(result)}\")\n",
    "        print(f\"📊 Result content: {result}\")\n",
    "        \n",
    "        # Extract text\n",
    "        if result and result[0]:\n",
    "            texts = []\n",
    "            for detection in result[0]:\n",
    "                if detection and len(detection) >= 2:\n",
    "                    text = detection[1][0] if isinstance(detection[1], (list, tuple)) else str(detection[1])\n",
    "                    texts.append(text)\n",
    "            \n",
    "            print(f\"✅ Extracted {len(texts)} text elements:\")\n",
    "            for i, text in enumerate(texts):\n",
    "                print(f\"   {i+1}. {text}\")\n",
    "        else:\n",
    "            print(\"❌ No text extracted from small image\")\n",
    "            \n",
    "    except Exception as e:\n",
    "        print(f\"❌ Failed to process small image: {e}\")\n",
    "        import traceback\n",
    "        traceback.print_exc()\n",
    "else:\n",
    "    print(\"⚠️ OCR not initialized or test image not created\")"
   ]
  },
  {
   "cell_type": "code",
   "execution_count": 8,
   "id": "d0279378",
   "metadata": {},
   "outputs": [
    {
     "name": "stdout",
     "output_type": "stream",
     "text": [
      "🔧 CELL 7: Testing OCR on resized original image...\n",
      "📐 Resized image from 1275x1650 to 618x800\n",
      "💾 Saved resized image: resized_resume.jpg\n",
      "⏳ Processing resized original image...\n"
     ]
    },
    {
     "name": "stderr",
     "output_type": "stream",
     "text": [
      "C:\\Users\\alila\\AppData\\Local\\Temp\\ipykernel_43624\\651374525.py:30: DeprecationWarning: Please use `predict` instead.\n",
      "  result = ocr.ocr(resized_path)\n"
     ]
    },
    {
     "name": "stdout",
     "output_type": "stream",
     "text": [
      "✅ Resized image processed in 312.83 seconds\n",
      "✅ Extracted 0 text elements from original image:\n",
      "💾 Results saved to: extracted_text_debug.txt\n"
     ]
    }
   ],
   "source": [
    "print(\"🔧 CELL 7: Testing OCR on resized original image...\")\n",
    "\n",
    "if 'ocr' in locals() and 'img' in locals():\n",
    "    try:\n",
    "        # Resize image to make it smaller and faster\n",
    "        height, width = img.shape[:2]\n",
    "        \n",
    "        # Calculate new size (max 800 pixels on longest side)\n",
    "        max_dimension = 800\n",
    "        if max(height, width) > max_dimension:\n",
    "            scale = max_dimension / max(height, width)\n",
    "            new_width = int(width * scale)\n",
    "            new_height = int(height * scale)\n",
    "            \n",
    "            resized_img = cv2.resize(img, (new_width, new_height))\n",
    "            print(f\"📐 Resized image from {width}x{height} to {new_width}x{new_height}\")\n",
    "        else:\n",
    "            resized_img = img\n",
    "            print(f\"📐 Image size OK, no resizing needed: {width}x{height}\")\n",
    "        \n",
    "        # Save resized image\n",
    "        resized_path = \"resized_resume.jpg\"\n",
    "        cv2.imwrite(resized_path, resized_img)\n",
    "        print(f\"💾 Saved resized image: {resized_path}\")\n",
    "        \n",
    "        # Process with OCR\n",
    "        print(\"⏳ Processing resized original image...\")\n",
    "        start_time = time.time()\n",
    "        \n",
    "        result = ocr.ocr(resized_path)\n",
    "        \n",
    "        process_time = time.time() - start_time\n",
    "        print(f\"✅ Resized image processed in {process_time:.2f} seconds\")\n",
    "        \n",
    "        # Extract and display text\n",
    "        if result and result[0]:\n",
    "            texts = []\n",
    "            for detection in result[0]:\n",
    "                if detection and len(detection) >= 2:\n",
    "                    text_info = detection[1]\n",
    "                    if isinstance(text_info, (list, tuple)) and len(text_info) >= 1:\n",
    "                        text = text_info[0]\n",
    "                        confidence = text_info[1] if len(text_info) >= 2 else 1.0\n",
    "                        \n",
    "                        if text and text.strip():\n",
    "                            texts.append((text.strip(), confidence))\n",
    "            \n",
    "            print(f\"✅ Extracted {len(texts)} text elements from original image:\")\n",
    "            for i, (text, conf) in enumerate(texts[:10]):  # Show first 10\n",
    "                print(f\"   {i+1}. '{text}' (conf: {conf:.3f})\")\n",
    "            \n",
    "            if len(texts) > 10:\n",
    "                print(f\"   ... and {len(texts) - 10} more\")\n",
    "            \n",
    "            # Save results\n",
    "            with open(\"extracted_text_debug.txt\", \"w\", encoding=\"utf-8\") as f:\n",
    "                f.write(\"PaddleOCR Debug Results\\n\")\n",
    "                f.write(\"=\" * 30 + \"\\n\")\n",
    "                for text, conf in texts:\n",
    "                    f.write(f\"{text} (confidence: {conf:.3f})\\n\")\n",
    "            \n",
    "            print(f\"💾 Results saved to: extracted_text_debug.txt\")\n",
    "            \n",
    "        else:\n",
    "            print(\"❌ No text extracted from resized image\")\n",
    "            \n",
    "    except Exception as e:\n",
    "        print(f\"❌ Failed to process resized image: {e}\")\n",
    "        import traceback\n",
    "        traceback.print_exc()\n",
    "else:\n",
    "    print(\"⚠️ OCR not initialized or original image not loaded\")"
   ]
  },
  {
   "cell_type": "code",
   "execution_count": 9,
   "id": "493988e6",
   "metadata": {},
   "outputs": [
    {
     "name": "stdout",
     "output_type": "stream",
     "text": [
      "🔧 CELL 8: Cleanup...\n",
      "✅ OCR object deleted\n",
      "✅ Image variables deleted\n",
      "🗑️ Deleted: test_small_resume.png\n",
      "🗑️ Deleted: resized_resume.jpg\n",
      "✅ Garbage collection completed\n",
      "\n",
      "==================================================\n",
      "🎯 DEBUGGING COMPLETE\n",
      "==================================================\n",
      "Run cells one by one to identify where the problem occurs!\n",
      "If a cell hangs, interrupt it and skip to the next one.\n"
     ]
    }
   ],
   "source": [
    "print(\"🔧 CELL 8: Cleanup...\")\n",
    "\n",
    "try:\n",
    "    # Clean up variables\n",
    "    if 'ocr' in locals():\n",
    "        del ocr\n",
    "        print(\"✅ OCR object deleted\")\n",
    "    \n",
    "    if 'img' in locals():\n",
    "        del img\n",
    "        print(\"✅ Image variables deleted\")\n",
    "    \n",
    "    # Clean up temporary files\n",
    "    temp_files = [\"test_small_resume.png\", \"resized_resume.jpg\"]\n",
    "    for temp_file in temp_files:\n",
    "        if os.path.exists(temp_file):\n",
    "            os.remove(temp_file)\n",
    "            print(f\"🗑️ Deleted: {temp_file}\")\n",
    "    \n",
    "    # Force garbage collection\n",
    "    import gc\n",
    "    gc.collect()\n",
    "    print(\"✅ Garbage collection completed\")\n",
    "    \n",
    "except Exception as e:\n",
    "    print(f\"⚠️ Cleanup warning: {e}\")\n",
    "\n",
    "print(\"\\n\" + \"=\"*50)\n",
    "print(\"🎯 DEBUGGING COMPLETE\")\n",
    "print(\"=\"*50)\n",
    "print(\"Run cells one by one to identify where the problem occurs!\")\n",
    "print(\"If a cell hangs, interrupt it and skip to the next one.\")"
   ]
  }
 ],
 "metadata": {
  "kernelspec": {
   "display_name": "paddleocr_env",
   "language": "python",
   "name": "python3"
  },
  "language_info": {
   "codemirror_mode": {
    "name": "ipython",
    "version": 3
   },
   "file_extension": ".py",
   "mimetype": "text/x-python",
   "name": "python",
   "nbconvert_exporter": "python",
   "pygments_lexer": "ipython3",
   "version": "3.10.0"
  }
 },
 "nbformat": 4,
 "nbformat_minor": 5
}
